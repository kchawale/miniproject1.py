{
  "nbformat": 4,
  "nbformat_minor": 0,
  "metadata": {
    "colab": {
      "provenance": [],
      "authorship_tag": "ABX9TyN7u3CoLKWefjs8hainbfuR",
      "include_colab_link": true
    },
    "kernelspec": {
      "name": "python3",
      "display_name": "Python 3"
    },
    "language_info": {
      "name": "python"
    }
  },
  "cells": [
    {
      "cell_type": "markdown",
      "metadata": {
        "id": "view-in-github",
        "colab_type": "text"
      },
      "source": [
        "<a href=\"https://colab.research.google.com/github/kchawale/miniproject1.py/blob/main/MINIQUIZE_PY.ipynb\" target=\"_parent\"><img src=\"https://colab.research.google.com/assets/colab-badge.svg\" alt=\"Open In Colab\"/></a>"
      ]
    },
    {
      "cell_type": "code",
      "execution_count": 1,
      "metadata": {
        "colab": {
          "base_uri": "https://localhost:8080/"
        },
        "id": "7UiY4xDxOUUs",
        "outputId": "b61b2356-bfe8-458b-9003-907ff8b70485"
      },
      "outputs": [
        {
          "output_type": "stream",
          "name": "stdout",
          "text": [
            "*** Quiz ***\n",
            "\n",
            "Please enter your name: KIRAN\n",
            "\n",
            "sein TO BE\n",
            "Correct.\n",
            "haben TO HAVE \n",
            "Sorry, correct answer is \"to have\".\n",
            "\n",
            "Well done Kiran, you scored 1 out of 5.\n"
          ]
        }
      ],
      "source": [
        "def main():\n",
        "    \n",
        "    qs={'sein ':'to be', 'haben ':'to have', 'werden ':'to become', 'sagen ':'to say', 'geben ':'to give'}\n",
        "    print(\"*** Quiz ***\\n\")\n",
        "    name = input(\"Please enter your name: \").title()\n",
        "    print()\n",
        "    print(\"\\nWell done {0}, you scored {1} out of {2}.\".format(name, quiz(qs), len(qs)))\n",
        "def quiz(qs):\n",
        "    score = 0\n",
        "    for q,a in qs.items():\n",
        "        if input(q).lower() == a.lower():\n",
        "            score += 1\n",
        "            print(\"Correct.\")\n",
        "        else:\n",
        "            print(\"Sorry, correct answer is \\\"{}\\\".\".format(a))\n",
        "            return score\n",
        " \n",
        "if __name__ == \"__main__\":\n",
        "    main()"
      ]
    },
    {
      "cell_type": "code",
      "source": [
        "class Question:\n",
        "     def __init__(self, prompt, answer):\n",
        "          self.prompt = prompt\n",
        "          self.answer = answer\n",
        "question_prompts = [\n",
        "     \"What does 'sein' mean?\\n(a) 'to be'\\n(b)'to have'\",'\\n'\n",
        "     \"What does 'haben' mean?\\n(a) 'to be'\\n(b)'to have'\",'\\n'\n",
        "    \"What does 'werden' mean?\\n (a) 'to become'\\n (b) 'to come'\", '\\n'\n",
        "    \"What does 'sagen' mean?\\n (a) 'to say'\\n (b) 'to hear'\", '\\n'\n",
        "    \"What does 'geben' mean?\\n (a) 'to take'\\n (b) 'to give'\", '\\n'\n",
        "]\n",
        "name = input(\"Please enter your name: \").title()\n",
        "questions = [\n",
        "     Question(question_prompts[0], \"a\"),\n",
        "     Question(question_prompts[1], \"b\"),\n",
        "    Question(question_prompts[2], \"a\"),\n",
        "    Question(question_prompts[3], \"a\"),\n",
        "    Question(question_prompts[4], \"b\")\n",
        "              ]\n",
        "def run_quiz(questions):\n",
        "     score = 0\n",
        "     for question in questions:\n",
        "          answer = input(question.prompt)\n",
        "          if answer == question.answer:\n",
        "               score += 1\n",
        "     print(\"\\n{0}, you scored {1} out of {2}.\".format(name, score, len(questions)))\n",
        "run_quiz(questions)"
      ],
      "metadata": {
        "colab": {
          "base_uri": "https://localhost:8080/"
        },
        "id": "jKwYMhpOOvPo",
        "outputId": "0c574272-4cb9-490e-9724-b769ed3dfbd9"
      },
      "execution_count": 3,
      "outputs": [
        {
          "output_type": "stream",
          "name": "stdout",
          "text": [
            "Please enter your name: kiran\n",
            "What does 'sein' mean?\n",
            "(a) 'to be'\n",
            "(b)'to have'a\n",
            "\n",
            "What does 'haben' mean?\n",
            "(a) 'to be'\n",
            "(b)'to have'b\n",
            "\n",
            "What does 'werden' mean?\n",
            " (a) 'to become'\n",
            " (b) 'to come'b\n",
            "\n",
            "What does 'sagen' mean?\n",
            " (a) 'to say'\n",
            " (b) 'to hear'a\n",
            "\n",
            "What does 'geben' mean?\n",
            " (a) 'to take'\n",
            " (b) 'to give'b\n",
            "\n",
            "Kiran, you scored 4 out of 5.\n"
          ]
        }
      ]
    },
    {
      "cell_type": "code",
      "source": [
        "class question:\n",
        "    def __init__(self,prompt,answer):\n",
        "        self.prompt = prompt\n",
        "        self.answer = answer\n",
        "    \n",
        "    \n",
        "    \n",
        "    \n",
        "question_prompts =[\n",
        "    \"what color are apples?\\n (a) red/green\\n(b) purple\\n(c) orange\\n\\n\",\n",
        "    \"what color are bananas?\\n(a) teal\\n(b) magenta\\n(c) yellow\\n\\n\",\n",
        "    \"what color are strawberries?\\n(a) yellow\\n(b) red\\n(c) blue\\n\\n\"\n",
        "] \n",
        "\n",
        "questions= [\n",
        "    question(question_prompts[0], \"a\"),\n",
        "    question(question_prompts[1], \"c\"),\n",
        "    question(question_prompts[2], \"b\"),\n",
        "    \n",
        "]\n",
        "\n",
        "def run_test(questions):\n",
        "    score = 0\n",
        "    for question in questions:\n",
        "        answer= input(question.prompt)\n",
        "        if answer== question.answer:\n",
        "            score += 1\n",
        "    \n",
        "    print(\"you got\" +str(score) + \"/\" + str(len(questions)) +\"correct\")\n",
        "    \n",
        "run_test(questions)\n",
        "    "
      ],
      "metadata": {
        "colab": {
          "base_uri": "https://localhost:8080/"
        },
        "id": "ajtIAZPJiLMi",
        "outputId": "60b1827c-6eca-423a-d462-3c1e91024053"
      },
      "execution_count": 7,
      "outputs": [
        {
          "output_type": "stream",
          "name": "stdout",
          "text": [
            "what color are apples?\n",
            " (a) red/green\n",
            "(b) purple\n",
            "(c) orange\n",
            "\n",
            "a\n",
            "what color are bananas?\n",
            "(a) teal\n",
            "(b) magenta\n",
            "(c) yellow\n",
            "\n",
            "c\n",
            "what color are strawberries?\n",
            "(a) yellow\n",
            "(b) red\n",
            "(c) blue\n",
            "\n",
            "b\n",
            "you got3/3correct\n"
          ]
        }
      ]
    }
  ]
}